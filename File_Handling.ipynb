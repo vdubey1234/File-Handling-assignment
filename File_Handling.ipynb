{
  "nbformat": 4,
  "nbformat_minor": 0,
  "metadata": {
    "colab": {
      "provenance": []
    },
    "kernelspec": {
      "name": "python3",
      "display_name": "Python 3"
    },
    "language_info": {
      "name": "python"
    }
  },
  "cells": [
    {
      "cell_type": "code",
      "execution_count": null,
      "metadata": {
        "id": "RIw41nruA5t1"
      },
      "outputs": [],
      "source": [
        "# Theoritical Questions:\n"
      ]
    },
    {
      "cell_type": "code",
      "source": [
        "\"\"\"  1. What is the difference between interpreted and compiled languages\n",
        "Ans=> Interpreted: Code is executed line-by-line by an interpreter (e.g., Python, JavaScript).\n",
        "\n",
        "Compiled: Code is converted into machine code before execution (e.g., C, C++)."
      ],
      "metadata": {
        "id": "qBskG5PfBBGS"
      },
      "execution_count": null,
      "outputs": []
    },
    {
      "cell_type": "code",
      "source": [
        "\"\"\"2. What is exception handling in Python:\n",
        "Ans=> A mechanism to handle runtime errors without crashing the program. \"\"\"\n"
      ],
      "metadata": {
        "colab": {
          "base_uri": "https://localhost:8080/",
          "height": 36
        },
        "id": "62ZndXkfBBIj",
        "outputId": "b3a59948-ccb5-4e4e-a15f-e3706cf93c28"
      },
      "execution_count": null,
      "outputs": [
        {
          "output_type": "execute_result",
          "data": {
            "text/plain": [
              "'2. What is exception handling in Python:\\nAns=> A mechanism to handle runtime errors without crashing the program. '"
            ],
            "application/vnd.google.colaboratory.intrinsic+json": {
              "type": "string"
            }
          },
          "metadata": {},
          "execution_count": 3
        }
      ]
    },
    {
      "cell_type": "code",
      "source": [
        "try:\n",
        "    x = 10 / 0\n",
        "except ZeroDivisionError:\n",
        "    print(\"You can't divide by zero!\")\n"
      ],
      "metadata": {
        "colab": {
          "base_uri": "https://localhost:8080/"
        },
        "id": "jB7XHzYYCcC7",
        "outputId": "88f0b3a6-620a-4d43-aed0-3e420bf06b55"
      },
      "execution_count": null,
      "outputs": [
        {
          "output_type": "stream",
          "name": "stdout",
          "text": [
            "You can't divide by zero!\n"
          ]
        }
      ]
    },
    {
      "cell_type": "code",
      "source": [
        "\"\"\" 3.What is the purpose of the finally block in exception handling\n",
        "Ans=> Code inside finally runs no matter what — whether an exception occurs or not."
      ],
      "metadata": {
        "id": "TFhZCLCDBBLH"
      },
      "execution_count": null,
      "outputs": []
    },
    {
      "cell_type": "code",
      "source": [
        "try:\n",
        "    f = open(\"data.txt\")\n",
        "except FileNotFoundError:\n",
        "    print(\"File not found!\")\n",
        "finally:\n",
        "    print(\"Cleaning up...\")\n"
      ],
      "metadata": {
        "colab": {
          "base_uri": "https://localhost:8080/"
        },
        "id": "6E9c7DPXClu8",
        "outputId": "70128856-bdd0-4e90-808d-f4131740247d"
      },
      "execution_count": null,
      "outputs": [
        {
          "output_type": "stream",
          "name": "stdout",
          "text": [
            "File not found!\n",
            "Cleaning up...\n"
          ]
        }
      ]
    },
    {
      "cell_type": "code",
      "source": [
        "\"\"\" 4. What is logging in Python.\n",
        "Ans=> Used to record messages (info, warnings, errors) for debugging and monitoring."
      ],
      "metadata": {
        "id": "POpYLhR8CQrW"
      },
      "execution_count": null,
      "outputs": []
    },
    {
      "cell_type": "code",
      "source": [
        "import logging\n",
        "logging.basicConfig(level=logging.INFO)\n",
        "logging.info(\"Application started\")\n"
      ],
      "metadata": {
        "id": "3eavSxaTCwQJ"
      },
      "execution_count": null,
      "outputs": []
    },
    {
      "cell_type": "code",
      "source": [
        "\"\"\" 5. What is the significance of the __del__ method in Python\n",
        "Ans=> Destructor method — called when an object is about to be destroyed."
      ],
      "metadata": {
        "id": "YRagacE3CQtz"
      },
      "execution_count": null,
      "outputs": []
    },
    {
      "cell_type": "code",
      "source": [
        "class MyClass:\n",
        "    def __del__(self):\n",
        "        print(\"Object destroyed\")\n",
        "\n",
        "obj = MyClass()\n",
        "del obj\n"
      ],
      "metadata": {
        "colab": {
          "base_uri": "https://localhost:8080/"
        },
        "id": "TcD_rDD5C_i-",
        "outputId": "43041b50-5abf-44d8-ffdf-a38ce34a98a1"
      },
      "execution_count": null,
      "outputs": [
        {
          "output_type": "stream",
          "name": "stdout",
          "text": [
            "Object destroyed\n"
          ]
        }
      ]
    },
    {
      "cell_type": "code",
      "source": [
        "\"\"\" 6. What is the difference between import and from ... import in Python\n",
        "Ans=> import module → Need to use module.function().\n",
        "\n",
        "from module import function → Can call function() directly."
      ],
      "metadata": {
        "id": "brRyUypMCQxO"
      },
      "execution_count": null,
      "outputs": []
    },
    {
      "cell_type": "code",
      "source": [
        "import math\n",
        "print(math.sqrt(16))\n",
        "\n",
        "from math import sqrt\n",
        "print(sqrt(16))\n"
      ],
      "metadata": {
        "colab": {
          "base_uri": "https://localhost:8080/"
        },
        "id": "Jrr1339gBBNG",
        "outputId": "698e9925-3f6c-4f72-e3d4-d589941ed635"
      },
      "execution_count": null,
      "outputs": [
        {
          "output_type": "stream",
          "name": "stdout",
          "text": [
            "4.0\n",
            "4.0\n"
          ]
        }
      ]
    },
    {
      "cell_type": "code",
      "source": [
        "\"\"\" 7. How can you handle multiple exceptions in Python\n",
        "Ans => You can catch multiple exceptions using tuples or multiple except blocks.\n",
        "\n",
        "\n"
      ],
      "metadata": {
        "id": "3npVXxTbDOiO"
      },
      "execution_count": null,
      "outputs": []
    },
    {
      "cell_type": "code",
      "source": [
        "try:\n",
        "    x = int(\"abc\")\n",
        "except (ValueError, TypeError):\n",
        "    print(\"Invalid input!\")\n"
      ],
      "metadata": {
        "colab": {
          "base_uri": "https://localhost:8080/"
        },
        "id": "9Kii0kHWEEKq",
        "outputId": "7bd30ee7-ab14-4e88-e507-c38511ce0f85"
      },
      "execution_count": null,
      "outputs": [
        {
          "output_type": "stream",
          "name": "stdout",
          "text": [
            "Invalid input!\n"
          ]
        }
      ]
    },
    {
      "cell_type": "code",
      "source": [
        "\"\"\" 8. What is the purpose of the with statement when handling files in Python\n",
        "Ans=> Automatically closes the file, even if an error occurs."
      ],
      "metadata": {
        "id": "k30ZQA8-DOks"
      },
      "execution_count": null,
      "outputs": []
    },
    {
      "cell_type": "code",
      "source": [
        "with open(\"file.txt\", \"r\") as f:\n",
        "    print(f.read())\n"
      ],
      "metadata": {
        "id": "qYY3JkYgEKqn"
      },
      "execution_count": null,
      "outputs": []
    },
    {
      "cell_type": "code",
      "source": [
        " \"\"\" 9.What is the difference between multithreading and multiprocessing\n",
        " Ans =>Multithreading: Multiple threads share the same memory space (good for I/O tasks).\n",
        "\n",
        "Multiprocessing: Multiple processes with separate memory spaces (good for CPU tasks)."
      ],
      "metadata": {
        "id": "f1HT7pglDOoP"
      },
      "execution_count": null,
      "outputs": []
    },
    {
      "cell_type": "code",
      "source": [
        "\"\"\" 10. What are the advantages of using logging in a program\n",
        "Ans=> Keeps a record of events\n",
        "\n",
        "Helps debug issues\n",
        "\n",
        "Allows monitoring in production"
      ],
      "metadata": {
        "id": "OYQk0Y_dDOtS"
      },
      "execution_count": null,
      "outputs": []
    },
    {
      "cell_type": "code",
      "source": [
        "\"\"\" 11. What is memory management in Python\n",
        "Ans=> Memory management ensures efficient use of memory, prevents memory leaks, and keeps Python programs running smoothly without manual allocation/deallocation."
      ],
      "metadata": {
        "id": "6LjEN5D4DOw3"
      },
      "execution_count": null,
      "outputs": []
    },
    {
      "cell_type": "code",
      "source": [
        "\"\"\" 12. What are the basic steps involved in exception handling in Python\n",
        "Ans => Wrap risky code in try block\n",
        "\n",
        "Catch errors with except\n",
        "\n",
        "Optionally use else (runs if no error)\n",
        "\n",
        "Optionally use finally (always runs)"
      ],
      "metadata": {
        "id": "H5RxgBPYDfnp"
      },
      "execution_count": null,
      "outputs": []
    },
    {
      "cell_type": "code",
      "source": [
        "\"\"\" 13. Why is memory management important in Python.\n",
        "Ans => Memory management in Python is the process of efficiently allocating, tracking, and freeing memory for objects so the program runs\n",
        " smoothly without manual intervention. Python uses a private heap space, a memory manager, reference counting, and a garbage collector to\n",
        " automatically remove unused objects, including those in circular references. It is important because it prevents memory leaks, improves\n",
        "  performance, ensures program stability, optimizes resource usage, and supports scalability\n"
      ],
      "metadata": {
        "id": "zk-lfDuMFGQI"
      },
      "execution_count": null,
      "outputs": []
    },
    {
      "cell_type": "code",
      "source": [
        "\"\"\" 14. What is the role of try and except in exception handling.\n",
        "Ans=> try → block with risky code\n",
        "except → block to handle errors"
      ],
      "metadata": {
        "id": "WpwH60Y2FGTG"
      },
      "execution_count": null,
      "outputs": []
    },
    {
      "cell_type": "code",
      "source": [
        "\"\"\" 15. How does Python's garbage collection system work.\n",
        "Ans => Uses reference counting\n",
        "\n",
        "If no references → object deleted\n",
        "\n",
        "Also detects and clears circular references"
      ],
      "metadata": {
        "id": "8ZcoRmJLFGWW"
      },
      "execution_count": null,
      "outputs": []
    },
    {
      "cell_type": "code",
      "source": [
        "\"\"\" 16.  What is the purpose of the else block in exception handling\n",
        "Ans => Runs only if no exception occurs."
      ],
      "metadata": {
        "id": "w81MXApgFGgr"
      },
      "execution_count": null,
      "outputs": []
    },
    {
      "cell_type": "code",
      "source": [
        "try:\n",
        "    print(10 / 2)\n",
        "except ZeroDivisionError:\n",
        "    print(\"Error\")\n",
        "else:\n",
        "    print(\"No errors!\")\n"
      ],
      "metadata": {
        "id": "S53NOvKyGelr"
      },
      "execution_count": null,
      "outputs": []
    },
    {
      "cell_type": "code",
      "source": [
        "\"\"\" 17. What are the common logging levels in Python.\n",
        "Ans=> DEBUG – Detailed information, typically for diagnosing problems during development.\n",
        "\n",
        "INFO – General events that confirm things are working as expected.\n",
        "\n",
        "WARNING – Indicates something unexpected happened or might happen, but the program is still running.\n",
        "\n",
        "ERROR – A serious problem that prevented part of the program from functioning.\n",
        "\n",
        "CRITICAL – A severe error indicating the program may not be able to continue running."
      ],
      "metadata": {
        "id": "c_ppfNPEFU1x"
      },
      "execution_count": null,
      "outputs": []
    },
    {
      "cell_type": "code",
      "source": [
        "import logging\n",
        "logging.basicConfig(level=logging.DEBUG)\n",
        "\n",
        "logging.debug(\"Debugging details\")\n",
        "logging.info(\"Just an update\")\n",
        "logging.warning(\"Something might be wrong\")\n",
        "logging.error(\"An error occurred\")\n",
        "logging.critical(\"Critical failure!\")\n"
      ],
      "metadata": {
        "colab": {
          "base_uri": "https://localhost:8080/"
        },
        "id": "rBgT6f8jG9h0",
        "outputId": "8bbcc637-3079-45d2-bc17-68601ce421c2"
      },
      "execution_count": null,
      "outputs": [
        {
          "output_type": "stream",
          "name": "stderr",
          "text": [
            "WARNING:root:Something might be wrong\n",
            "ERROR:root:An error occurred\n",
            "CRITICAL:root:Critical failure!\n"
          ]
        }
      ]
    },
    {
      "cell_type": "code",
      "source": [
        "\"\"\" 18. What is the difference between os.fork() and multiprocessing in Python\n",
        "Ans=> os.fork() → Unix-only, creates a new process by duplicating the current one.\n",
        "\n",
        "multiprocessing → Cross-platform module for process-based parallelism."
      ],
      "metadata": {
        "id": "gh9OGnmIFU4E"
      },
      "execution_count": null,
      "outputs": []
    },
    {
      "cell_type": "code",
      "source": [
        "\"\"\" 19. What is the importance of closing a file in Python.\n",
        "Ans => Prevents data loss and resource leaks."
      ],
      "metadata": {
        "id": "CaimyzgXFU6c"
      },
      "execution_count": null,
      "outputs": []
    },
    {
      "cell_type": "code",
      "source": [
        "\"\"\" 20.What is the difference between file.read() and file.readline() in Python.\n",
        "Ans => read() → Reads entire file or given size.\n",
        "\n",
        "readline() → Reads one line at a time.\n"
      ],
      "metadata": {
        "id": "g8SFMATFFU9t"
      },
      "execution_count": null,
      "outputs": []
    },
    {
      "cell_type": "code",
      "source": [
        "\"\"\" 21. What is the logging module in Python used for?\n",
        "Ans => Used to track events and messages for debugging and monitoring programs."
      ],
      "metadata": {
        "id": "Rbli8wU2Hu4p"
      },
      "execution_count": null,
      "outputs": []
    },
    {
      "cell_type": "code",
      "source": [
        "\"\"\" 22.  What is the os module in Python used for in file handling.\n",
        "Ans => Used for file/directory operations like rename, delete, list, path checks\n"
      ],
      "metadata": {
        "id": "DirON4HGHu7Q"
      },
      "execution_count": null,
      "outputs": []
    },
    {
      "cell_type": "code",
      "source": [
        "import os\n",
        "print(os.listdir())  # List files\n"
      ],
      "metadata": {
        "colab": {
          "base_uri": "https://localhost:8080/"
        },
        "id": "TxXz7c0iIVPG",
        "outputId": "f8ba45c4-3c18-4994-a4a8-adfda19ab2be"
      },
      "execution_count": null,
      "outputs": [
        {
          "output_type": "stream",
          "name": "stdout",
          "text": [
            "['.config', 'sample_data']\n"
          ]
        }
      ]
    },
    {
      "cell_type": "code",
      "source": [
        "\"\"\" 23.  What are the challenges associated with memory management in Python.\n",
        "Ans => Circular references\n",
        "\n",
        "Large data structures\n",
        "\n",
        "External resources not released properly"
      ],
      "metadata": {
        "id": "EVc4iOoPHu-o"
      },
      "execution_count": null,
      "outputs": []
    },
    {
      "cell_type": "code",
      "source": [
        "\"\"\" 24. How do you raise an exception manually in Python.\n",
        "Ans =>\n",
        "You can raise an exception manually in Python using the raise keyword, typically with a built-in exception class (like ValueError, TypeError) or a custom one."
      ],
      "metadata": {
        "id": "L-ktcTUzH4c_"
      },
      "execution_count": null,
      "outputs": []
    },
    {
      "cell_type": "code",
      "source": [
        "raise ValueError(\"Custom error message\")\n"
      ],
      "metadata": {
        "colab": {
          "base_uri": "https://localhost:8080/",
          "height": 141
        },
        "id": "V1MU-5KeIkBy",
        "outputId": "ba1e29cc-1c51-44bc-fa9a-4660898af1e3"
      },
      "execution_count": null,
      "outputs": [
        {
          "output_type": "error",
          "ename": "ValueError",
          "evalue": "Custom error message",
          "traceback": [
            "\u001b[0;31m---------------------------------------------------------------------------\u001b[0m",
            "\u001b[0;31mValueError\u001b[0m                                Traceback (most recent call last)",
            "\u001b[0;32m/tmp/ipython-input-286118469.py\u001b[0m in \u001b[0;36m<cell line: 0>\u001b[0;34m()\u001b[0m\n\u001b[0;32m----> 1\u001b[0;31m \u001b[0;32mraise\u001b[0m \u001b[0mValueError\u001b[0m\u001b[0;34m(\u001b[0m\u001b[0;34m\"Custom error message\"\u001b[0m\u001b[0;34m)\u001b[0m\u001b[0;34m\u001b[0m\u001b[0;34m\u001b[0m\u001b[0m\n\u001b[0m",
            "\u001b[0;31mValueError\u001b[0m: Custom error message"
          ]
        }
      ]
    },
    {
      "cell_type": "code",
      "source": [
        "\"\"\" 25. Why is it important to use multithreading in certain applications.\n",
        "Ans => Helps in concurrent execution for I/O-heavy tasks like network requests or file reading, improving performance."
      ],
      "metadata": {
        "id": "_qxR5WTmH4po"
      },
      "execution_count": null,
      "outputs": []
    },
    {
      "cell_type": "code",
      "source": [
        "# PracticaL Questions:"
      ],
      "metadata": {
        "id": "FXgzutm8yfMC"
      },
      "execution_count": null,
      "outputs": []
    },
    {
      "cell_type": "code",
      "source": [
        "\"\"\" 1. How can you open a file for writing in Python and write a string to it."
      ],
      "metadata": {
        "id": "4-qv30koyfOf"
      },
      "execution_count": null,
      "outputs": []
    },
    {
      "cell_type": "code",
      "source": [
        "with open(\"file.txt\",'w') as f:\n",
        "  f.write(\"Hello\")\n",
        "\n"
      ],
      "metadata": {
        "id": "RgKKIEFQyfSI"
      },
      "execution_count": null,
      "outputs": []
    },
    {
      "cell_type": "code",
      "source": [
        "\"\"\" 2. Write a Python program to read the contents of a file and print each line"
      ],
      "metadata": {
        "id": "s-MCSwu1zMRA"
      },
      "execution_count": null,
      "outputs": []
    },
    {
      "cell_type": "code",
      "source": [
        "\n",
        "with open(\"file.txt\",'r') as f:\n",
        "  str = f.read()\n",
        "  print(str)\n",
        "\n"
      ],
      "metadata": {
        "colab": {
          "base_uri": "https://localhost:8080/"
        },
        "id": "xjSDdamRzMT7",
        "outputId": "f1ea0ea7-3c3b-4f72-8397-59b7b5db2c30"
      },
      "execution_count": null,
      "outputs": [
        {
          "output_type": "stream",
          "name": "stdout",
          "text": [
            "Hey , my mane is Vanshika\n",
            "I am a Data Analyst\n",
            "I am working on File and Exceptional Hnadling Currently\n"
          ]
        }
      ]
    },
    {
      "cell_type": "code",
      "source": [
        "\"\"\" 3.How would you handle a case where the file doesn't exist while trying to open it for reading"
      ],
      "metadata": {
        "id": "y_4t3MlWzMWO"
      },
      "execution_count": null,
      "outputs": []
    },
    {
      "cell_type": "code",
      "source": [
        "try:\n",
        "  f = open(\"abc.txt\",'r')\n",
        "  print(f.read())\n",
        "except Exception as e:\n",
        "  print(\"The file does not exist\",e)\n",
        "else:\n",
        "  f.close()"
      ],
      "metadata": {
        "colab": {
          "base_uri": "https://localhost:8080/"
        },
        "id": "WYmeoHXezMYL",
        "outputId": "4b3cdfd2-6fa3-4507-b835-78bd0b4eac49"
      },
      "execution_count": null,
      "outputs": [
        {
          "output_type": "stream",
          "name": "stdout",
          "text": [
            "The file does not exist [Errno 2] No such file or directory: 'abc.txt'\n"
          ]
        }
      ]
    },
    {
      "cell_type": "code",
      "source": [
        "\"\"\" 4. Write a Python script that reads from one file and writes its content to another file"
      ],
      "metadata": {
        "id": "uF6Q4aX4zMak"
      },
      "execution_count": null,
      "outputs": []
    },
    {
      "cell_type": "code",
      "source": [
        "with open(\"file.txt\",'r') as f:\n",
        "  str = f.read()\n",
        "\n",
        "with open(\"abc.txt\",'w+') as f1:\n",
        "  f1.write(str)\n",
        "  f1.seek(0)\n",
        "  str1 = f1.read()\n",
        "  print(str1)\n",
        "\n",
        "\n"
      ],
      "metadata": {
        "colab": {
          "base_uri": "https://localhost:8080/"
        },
        "id": "G68lVEDdzMde",
        "outputId": "adea2b59-4900-4755-e57e-332f91477ced"
      },
      "execution_count": null,
      "outputs": [
        {
          "output_type": "stream",
          "name": "stdout",
          "text": [
            "Hey , my mane is Vanshika\n",
            "I am a Data Analyst\n",
            "I am working on File and Exceptional Hnadling Currently\n"
          ]
        }
      ]
    },
    {
      "cell_type": "code",
      "source": [
        "\"\"\" 5. How would you catch and handle division by zero error in Python."
      ],
      "metadata": {
        "id": "QRKgEMcz3Z-l"
      },
      "execution_count": null,
      "outputs": []
    },
    {
      "cell_type": "code",
      "source": [
        "try:\n",
        "  print(10/0)\n",
        "except Exception as e:\n",
        "  print(\"This is error\",e)\n",
        "finally:\n",
        "  print(\"The code done successfully\")\n"
      ],
      "metadata": {
        "colab": {
          "base_uri": "https://localhost:8080/"
        },
        "id": "48tI1Dqn3aA7",
        "outputId": "a07026de-c1d5-4e38-eaa1-af4a8ce8bd67"
      },
      "execution_count": null,
      "outputs": [
        {
          "output_type": "stream",
          "name": "stdout",
          "text": [
            "This is error division by zero\n",
            "The code done successfully\n"
          ]
        }
      ]
    },
    {
      "cell_type": "code",
      "source": [
        "\"\"\" 6. Write a Python program that logs an error message to a log file when a division by zero exception occurs."
      ],
      "metadata": {
        "id": "XAs7EIe53aDY"
      },
      "execution_count": null,
      "outputs": []
    },
    {
      "cell_type": "code",
      "source": [
        "import logging\n",
        "\n",
        "logging.basicConfig(filename=\"file.log\", level=logging.DEBUG, format = '%(asctime)s %(levelname)s %(message)s')\n",
        "\n",
        "try:\n",
        "    print(10/0)\n",
        "except:\n",
        "    logging.info(\"This is Zero division error!!\")\n",
        "\n",
        "logging.shutdown()  # Coming back to this again\n",
        "\n",
        "\n",
        "\n"
      ],
      "metadata": {
        "id": "zDUCzKUH3aGM"
      },
      "execution_count": null,
      "outputs": []
    },
    {
      "cell_type": "code",
      "source": [
        "\"\"\" 7. How do you log information at different levels (INFO, ERROR, WARNING) in Python using the logging module"
      ],
      "metadata": {
        "id": "myt_bR6Y7oYz"
      },
      "execution_count": null,
      "outputs": []
    },
    {
      "cell_type": "code",
      "source": [
        "import logging\n",
        "logging.basicConfig(filename = \"program.log\",level = logging.DEBUG)\n",
        "l = [2,3,1,7]\n",
        "\n",
        "logging.warning(\"Caution....Error might occur!!\")\n",
        "try:\n",
        "  for i in l:\n",
        "     logging.info(f\"Processing for {i}/{i-1}\")\n",
        "     a = i\n",
        "     b = i-1\n",
        "     print(int(a/b))\n",
        "\n",
        "except Exception as e:\n",
        "  logging.error(e)\n",
        "\n",
        "else:\n",
        "  logging.info(\"No Error\")\n",
        "\n",
        "\n",
        "logging.shutdown()\n",
        "\n",
        "\n",
        "\n",
        "\n",
        "\n"
      ],
      "metadata": {
        "colab": {
          "base_uri": "https://localhost:8080/"
        },
        "id": "ZZkvr-E27aE5",
        "outputId": "a7632ca8-83ed-4615-ea0a-88c4057ba1f1"
      },
      "execution_count": null,
      "outputs": [
        {
          "output_type": "stream",
          "name": "stderr",
          "text": [
            "WARNING:root:Caution....Error might occur!!\n",
            "ERROR:root:division by zero\n"
          ]
        },
        {
          "output_type": "stream",
          "name": "stdout",
          "text": [
            "2\n",
            "1\n"
          ]
        }
      ]
    },
    {
      "cell_type": "code",
      "source": [
        "\"\"\" Q =>  Write a Python program that uses a try-except block to handle an error when attempting to access a\n",
        "dictionary key that doesn't exist\n"
      ],
      "metadata": {
        "id": "Taom2yue3aJs"
      },
      "execution_count": null,
      "outputs": []
    },
    {
      "cell_type": "code",
      "source": [],
      "metadata": {
        "id": "h7xwrRFO_zJ7"
      },
      "execution_count": null,
      "outputs": []
    },
    {
      "cell_type": "code",
      "source": [
        "\"\"\"  Write a Python program that prints the content of a file and handles the case when the file is empty."
      ],
      "metadata": {
        "id": "SGOxvKT8_zMt"
      },
      "execution_count": null,
      "outputs": []
    },
    {
      "cell_type": "code",
      "source": [
        "f = open(\"Hello.txt\", 'r')\n",
        "str = f.read()\n",
        "if(f.tell() == 0):\n",
        "  print(\"The file is empty\")\n",
        "else:\n",
        "  print(str)"
      ],
      "metadata": {
        "colab": {
          "base_uri": "https://localhost:8080/"
        },
        "id": "1QNhnEVL_zQV",
        "outputId": "e23b9d4b-22ce-4380-d20b-3999f35eb0f9"
      },
      "execution_count": null,
      "outputs": [
        {
          "output_type": "stream",
          "name": "stdout",
          "text": [
            "The file is empty\n"
          ]
        }
      ]
    },
    {
      "cell_type": "code",
      "source": [
        "\"\"\"  Demonstrate how to use memory profiling to check the memory usage of a small program\"\"\"\n",
        "del str"
      ],
      "metadata": {
        "id": "TeC7jlpe_zT0"
      },
      "execution_count": null,
      "outputs": []
    },
    {
      "cell_type": "code",
      "source": [
        "\"\"\" Write a Python program to create and write a list of numbers to a file, one number per line"
      ],
      "metadata": {
        "id": "KcWdpXMEGWY5"
      },
      "execution_count": null,
      "outputs": []
    },
    {
      "cell_type": "code",
      "source": [
        "l = [1,2,3,5]\n",
        "\n",
        "with open(\"Hello.txt\",'w') as f:\n",
        "  for i in l:\n",
        "    f.write(str(i) + '\\n')"
      ],
      "metadata": {
        "id": "j4dPJFTEGhOg"
      },
      "execution_count": null,
      "outputs": []
    },
    {
      "cell_type": "code",
      "source": [
        "\"\"\" F Write a Python program that reads a file and prints the number of occurrences of a specific wordF"
      ],
      "metadata": {
        "id": "v0UDOUxBMmYR"
      },
      "execution_count": null,
      "outputs": []
    },
    {
      "cell_type": "code",
      "source": [
        "\n",
        "\n",
        "def find(word,file):\n",
        "  count = 0\n",
        "  with open(file,'r') as f:\n",
        "    con = f.read()\n",
        "    f.seek(0)\n",
        "    for i in con:\n",
        "      if (i == word):\n",
        "        count = count+1\n",
        "\n",
        "  return count\n",
        "\n",
        "find(\"a\",\"file.txt\")\n",
        "\n"
      ],
      "metadata": {
        "colab": {
          "base_uri": "https://localhost:8080/"
        },
        "id": "mCZt0olIMngf",
        "outputId": "f2633aca-4995-46c4-accc-7da67f92025b"
      },
      "execution_count": null,
      "outputs": [
        {
          "output_type": "execute_result",
          "data": {
            "text/plain": [
              "12"
            ]
          },
          "metadata": {},
          "execution_count": 56
        }
      ]
    },
    {
      "cell_type": "code",
      "source": [],
      "metadata": {
        "id": "PHDvVQnMM6aH"
      },
      "execution_count": null,
      "outputs": []
    }
  ]
}